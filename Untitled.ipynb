{
 "cells": [
  {
   "cell_type": "code",
   "execution_count": 1,
   "id": "5b5d1d9f",
   "metadata": {},
   "outputs": [],
   "source": [
    "# importando bibliotecas\n",
    "\n",
    "import requests\n",
    "import json\n",
    "import pandas as pd\n",
    "import seaborn as sns"
   ]
  },
  {
   "cell_type": "code",
   "execution_count": 2,
   "id": "64963fbd",
   "metadata": {},
   "outputs": [],
   "source": [
    "# requisitando json\n",
    "\n",
    "data = requests.get ('https://resultados.tse.jus.br/oficial/ele2022/544/dados-simplificados/br/br-c0001-e000544-r.json')\n",
    "json_data = json.loads(data.content)"
   ]
  },
  {
   "cell_type": "code",
   "execution_count": 3,
   "id": "f1543513",
   "metadata": {},
   "outputs": [
    {
     "name": "stdout",
     "output_type": "stream",
     "text": [
      "              candidato     votos      %\n",
      "0                  LULA  56047441  48,09\n",
      "1        JAIR BOLSONARO  50678241  43,49\n",
      "2          SIMONE TEBET   4883444   4,19\n",
      "3            CIRO GOMES   3556324   3,05\n",
      "4      SORAYA THRONICKE    592988   0,51\n",
      "5   FELIPE D&apos;AVILA    557068   0,48\n",
      "6          PADRE KELMON     79653   0,07\n",
      "7          LÉO PÉRICLES     53242   0,05\n",
      "8         SOFIA MANZANO     45206   0,04\n",
      "9                  VERA     25396   0,02\n",
      "10  CONSTITUINTE EYMAEL     16477   0,01\n"
     ]
    }
   ],
   "source": [
    "# estrutrando resultados\n",
    "\n",
    "candidato = []\n",
    "partido = []\n",
    "votos = []\n",
    "porcentagem = []\n",
    "\n",
    "for i in json_data['cand']:\n",
    "    #if i['seq'] == '1'or i['seq'] == '2' or i['seq'] == '3' or i['seq'] == '4' or i['seq'] == '7':\n",
    "        candidato.append(i['nm'])\n",
    "        votos.append(i['vap'])\n",
    "        porcentagem.append(i['pvap'])\n",
    "        \n",
    "df_eleicao = pd.DataFrame(list(zip(candidato,votos,porcentagem)), columns =['candidato', 'votos', '%'])\n",
    "print (df_eleicao)"
   ]
  },
  {
   "cell_type": "code",
   "execution_count": 4,
   "id": "5f690b4b",
   "metadata": {
    "scrolled": true
   },
   "outputs": [
    {
     "name": "stderr",
     "output_type": "stream",
     "text": [
      "/var/folders/t2/nq_j6sc95wd08wy32sn04k140000gn/T/ipykernel_5222/711770910.py:2: FutureWarning: The default value of regex will change from True to False in a future version.\n",
      "  df_eleicao['%'] = df_eleicao['%'].str.replace('[A-Za-z]', '').str.replace(',', '.').astype(float)\n"
     ]
    }
   ],
   "source": [
    "df_eleicao['votos'] = df_eleicao['votos'].astype(str).astype(int)\n",
    "df_eleicao['%'] = df_eleicao['%'].str.replace('[A-Za-z]', '').str.replace(',', '.').astype(float)"
   ]
  },
  {
   "cell_type": "code",
   "execution_count": 5,
   "id": "3cbc593a",
   "metadata": {},
   "outputs": [
    {
     "data": {
      "image/png": "[encoded data removed]",
      "text/plain": [
       "<Figure size 432x288 with 1 Axes>"
      ]
     },
     "metadata": {
      "needs_background": "light"
     },
     "output_type": "display_data"
    }
   ],
   "source": [
    "ax = sns.barplot(data=df_eleicao, x='candidato', y='%', palette = 'husl');\n",
    "ax.set_xticklabels(ax.get_xticklabels(),rotation=90);\n",
    "for i in ax.containers: # colocar valores acima do plot\n",
    "    ax.bar_label(i,)"
   ]
  },
  {
   "cell_type": "code",
   "execution_count": null,
   "id": "b2c010d3",
   "metadata": {},
   "outputs": [],
   "source": []
  }
 ],
 "metadata": {
  "kernelspec": {
   "display_name": "Python 3 (ipykernel)",
   "language": "python",
   "name": "python3"
  },
  "language_info": {
   "codemirror_mode": {
    "name": "ipython",
    "version": 3
   },
   "file_extension": ".py",
   "mimetype": "text/x-python",
   "name": "python",
   "nbconvert_exporter": "python",
   "pygments_lexer": "ipython3",
   "version": "3.9.12"
  }
 },
 "nbformat": 4,
 "nbformat_minor": 5
}
