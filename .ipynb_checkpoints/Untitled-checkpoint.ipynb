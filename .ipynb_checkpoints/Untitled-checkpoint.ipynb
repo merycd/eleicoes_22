{
 "cells": [
  {
   "cell_type": "code",
   "execution_count": 1,
   "id": "21038c96",
   "metadata": {},
   "outputs": [],
   "source": [
    "# importando bibliotecas\n",
    "\n",
    "import requests\n",
    "import json\n",
    "import pandas as pd"
   ]
  },
  {
   "cell_type": "code",
   "execution_count": 2,
   "id": "e7d09760",
   "metadata": {},
   "outputs": [],
   "source": [
    "# requisitando json\n",
    "\n",
    "data = requests.get ('https://resultados.tse.jus.br/oficial/ele2022/544/dados-simplificados/br/br-c0001-e000544-r.json')\n",
    "json_data = json.loads(data.content)"
   ]
  },
  {
   "cell_type": "code",
   "execution_count": 7,
   "id": "f5682ff1",
   "metadata": {},
   "outputs": [
    {
     "name": "stdout",
     "output_type": "stream",
     "text": [
      "              Candidato Num votos      %\n",
      "0        JAIR BOLSONARO    583507  48,37\n",
      "1                  LULA    498455  41,32\n",
      "2          SIMONE TEBET     63094   5,23\n",
      "3            CIRO GOMES     44088   3,66\n",
      "4   FELIPE D&apos;AVILA      7436   0,62\n",
      "5      SORAYA THRONICKE      6024   0,50\n",
      "6          PADRE KELMON      1122   0,09\n",
      "7         SOFIA MANZANO       829   0,07\n",
      "8          LÉO PÉRICLES       739   0,06\n",
      "9                  VERA       558   0,05\n",
      "10  CONSTITUINTE EYMAEL       377   0,03\n"
     ]
    }
   ],
   "source": [
    "# estrutrando resultados\n",
    "\n",
    "candidato = []\n",
    "partido = []\n",
    "votos = []\n",
    "porcentagem = []\n",
    "\n",
    "for i in json_data['cand']:\n",
    "    #if i['seq'] == '1'or i['seq'] == '2' or i['seq'] == '3' or i['seq'] == '4' or i['seq'] == '7':\n",
    "        candidato.append(i['nm'])\n",
    "        votos.append(i['vap'])\n",
    "        porcentagem.append(i['pvap'])\n",
    "        \n",
    "df_eleicao = pd.DataFrame(list(zip(candidato,votos,porcentagem)), columns =['Candidato', 'Num votos', '%'])\n",
    "print (df_eleicao)"
   ]
  },
  {
   "cell_type": "code",
   "execution_count": null,
   "id": "dbd5c58e",
   "metadata": {},
   "outputs": [],
   "source": []
  }
 ],
 "metadata": {
  "kernelspec": {
   "display_name": "Python 3 (ipykernel)",
   "language": "python",
   "name": "python3"
  },
  "language_info": {
   "codemirror_mode": {
    "name": "ipython",
    "version": 3
   },
   "file_extension": ".py",
   "mimetype": "text/x-python",
   "name": "python",
   "nbconvert_exporter": "python",
   "pygments_lexer": "ipython3",
   "version": "3.9.12"
  }
 },
 "nbformat": 4,
 "nbformat_minor": 5
}
